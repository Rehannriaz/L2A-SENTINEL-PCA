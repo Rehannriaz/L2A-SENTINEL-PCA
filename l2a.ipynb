{
 "cells": [
  {
   "cell_type": "code",
   "execution_count": null,
   "metadata": {},
   "outputs": [],
   "source": [
    "import rasterio\n",
    "import numpy as np\n",
    "import matplotlib.pyplot as plt"
   ]
  },
  {
   "cell_type": "markdown",
   "metadata": {},
   "source": [
    "## L2A Sentinal Analysis and PCA"
   ]
  },
  {
   "cell_type": "markdown",
   "metadata": {},
   "source": [
    "### DataLoader Class\n",
    "Loads data from the path provided "
   ]
  },
  {
   "cell_type": "code",
   "execution_count": null,
   "metadata": {},
   "outputs": [],
   "source": [
    "import os\n",
    "\n",
    "class DataLoader:\n",
    "    def __init__(self) -> None:\n",
    "        return\n",
    "    \n",
    "    def loadFromList(paths: list(str)) -> np.ndarray:\n",
    "        return np.asarray([rasterio.open(path).read(1) for path in paths])\n",
    "    \n",
    "    def loadFromPath(path: str) -> np.ndarray:\n",
    "        return rasterio.open(path).read(1)\n",
    "    \n",
    "    def loadFromFolder(dirPath: str) -> np.ndarray:\n",
    "        paths = os.listdir(path=dirPath)\n",
    "        return np.asarray([rasterio.open(dirPath+'/'+path).read(1) for path in paths])"
   ]
  },
  {
   "cell_type": "markdown",
   "metadata": {},
   "source": [
    "### CustonPCA Class\n",
    "Performs all the functions like\n",
    "- Perform PCA\n",
    "- Reconstrutc Image\n",
    "- Calculate Error"
   ]
  },
  {
   "cell_type": "code",
   "execution_count": null,
   "metadata": {},
   "outputs": [],
   "source": [
    "class CustomPCA:\n",
    "    def __init__(self, n_components: int, X: np.ndarray) -> None:\n",
    "        self.n_components = n_components\n",
    "        self.__X = X\n",
    "        self.principal_components = None\n",
    "        self.mean = None\n",
    "        self.components = None\n",
    "\n",
    "    def __standardize_matrix(self, X):\n",
    "        # Standardize the data\n",
    "        self.mean = np.mean(self.__X)\n",
    "        X_standardized = (self.__X - np.mean(self.__X)) / np.std(self.__X)\n",
    "        return X_standardized                \n",
    "\n",
    "    def fit_transform(self) -> np.ndarray:\n",
    "        X_standardized = self.__standardize_matrix(self.__X)\n",
    "\n",
    "        concat = np.concatenate(X_standardized)\n",
    "        try:\n",
    "            covariance_matrix = np.cov(concat, rowvar=False)\n",
    "        except:\n",
    "            print(\"Too much memory being consumed... exiting\")\n",
    "            exit(-1)\n",
    "\n",
    "        # Calculate eigenvalues and eigenvectors\n",
    "        eigenvalues, eigenvectors = np.linalg.eigh(covariance_matrix)\n",
    "\n",
    "        # Sort eigenvalues and corresponding eigenvectors in descending order\n",
    "        indices = np.argsort(eigenvalues)[::-1]\n",
    "        eigenvalues = eigenvalues[indices]\n",
    "        eigenvectors = eigenvectors[:, indices]\n",
    "\n",
    "        # Select the top n_components eigenvectors\n",
    "        self.components = eigenvectors[:, :self.n_components]\n",
    "\n",
    "        # Project data onto the selected components\n",
    "        self.principal_components = np.dot(concat, self.components) \n",
    "        return self.principal_components\n",
    "\n",
    "    def inverse_transform(self, principal_components):\n",
    "        # Reconstruct data from principal components\n",
    "        reconstructed_data = np.dot(principal_components, self.components.T) + self.mean\n",
    "        return reconstructed_data\n",
    "    \n",
    "    def calculate_error(self) -> float:\n",
    "\n",
    "        if(self.principal_components == None):\n",
    "            print(\"Calculating principal Components...\")\n",
    "            self.inverse_transform(self.__X)\n",
    "\n",
    "        try:\n",
    "            X_reconstructed = self.inverse_transform(self.principal_components)\n",
    "            X_reconstructed = np.transpose(np.reshape(X_reconstructed, (5490, 5490, 10)), axes=(2,0,1))\n",
    "\n",
    "            concatenated_matrix = np.concatenate(self.__X)\n",
    "\n",
    "            mse = np.sum((self.__standardize_matrix(self.__X) - X_reconstructed) ** 2) / concatenated_matrix.size  # Divide by the total number of elements for normalization\n",
    "\n",
    "            print(\"No of comps = \"+str(self.n_components))\n",
    "            print(\"MSE = \" + str(mse))\n",
    "\n",
    "            return mse\n",
    "        except:\n",
    "            print(\"Error calculation failed! please try again...\")\n",
    "            exit(-2)\n",
    "\n",
    "    \n",
    "    def __del__(self):\n",
    "        self.components = None\n",
    "        self.mean = None\n",
    "        self.n_components = None\n",
    "        self.__X = None\n",
    "        self.principal_components = None"
   ]
  },
  {
   "cell_type": "markdown",
   "metadata": {},
   "source": [
    "### Crop Image function\n",
    "Crops the image to the first black pixel, for x and for y axis "
   ]
  },
  {
   "cell_type": "code",
   "execution_count": null,
   "metadata": {},
   "outputs": [],
   "source": [
    "def crop_image(matrix):\n",
    "    x_i = 0\n",
    "    y_i = 0\n",
    "\n",
    "    for i in range(matrix.shape[0]):\n",
    "        if matrix[0,i] == 0:\n",
    "            y_i = i\n",
    "            break\n",
    "        \n",
    "    for i in range(matrix.shape[1]):\n",
    "        if matrix[i,0] == 0:\n",
    "            x_i = i\n",
    "            break\n",
    "\n",
    "    return (x_i, y_i)"
   ]
  },
  {
   "cell_type": "markdown",
   "metadata": {},
   "source": [
    "### Plot Components Function\n",
    "plot any list of images that has been sent to the function"
   ]
  },
  {
   "cell_type": "code",
   "execution_count": null,
   "metadata": {},
   "outputs": [],
   "source": [
    "def plot_components(xBands,bandLen,cmapCol):\n",
    "    plt.clf()\n",
    "    fig, axes = plt.subplots(1, bandLen, figsize=(15, 5))\n",
    "    for i in range(bandLen):\n",
    "        axes[i].imshow(xBands[i], cmap=cmapCol)\n",
    "        axes[i].set_title(f'Band {i+1}')\n",
    "    "
   ]
  },
  {
   "cell_type": "code",
   "execution_count": null,
   "metadata": {},
   "outputs": [],
   "source": []
  }
 ],
 "metadata": {
  "language_info": {
   "name": "python"
  }
 },
 "nbformat": 4,
 "nbformat_minor": 2
}
